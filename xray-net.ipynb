{
 "cells": [
  {
   "cell_type": "code",
   "execution_count": 1,
   "metadata": {},
   "outputs": [
    {
     "name": "stderr",
     "output_type": "stream",
     "text": [
      "Using TensorFlow backend.\n"
     ]
    }
   ],
   "source": [
    "import keras\n",
    "import h5py\n",
    "import numpy as np\n",
    "import random\n",
    "from keras.models import Sequential\n",
    "from keras.layers import Dense, Dropout, Flatten\n",
    "from keras.layers import Conv2D, MaxPooling2D\n",
    "from keras import backend as K\n",
    "from tqdm import tqdm\n",
    "import cv2\n",
    "\n",
    "batch_size = 256\n",
    "num_classes = 2\n",
    "epochs = 24\n",
    "\n",
    "# input image dimensions\n",
    "img_rows, img_cols = 128, 128"
   ]
  },
  {
   "cell_type": "code",
   "execution_count": 2,
   "metadata": {},
   "outputs": [
    {
     "name": "stderr",
     "output_type": "stream",
     "text": [
      "112121it [04:17, 434.99it/s]  \n"
     ]
    },
    {
     "data": {
      "text/plain": [
       "[array([[208, 205, 206, ..., 204, 215, 139],\n",
       "        [209, 203, 205, ..., 202, 210, 134],\n",
       "        [206, 204, 202, ..., 202, 212, 136],\n",
       "        ..., \n",
       "        [101,  86,  73, ...,   0,   0,   0],\n",
       "        [101,  88,  72, ...,   0,   0,   0],\n",
       "        [ 99,  86,  70, ...,   0,   0,   0]], dtype=uint8), 1, 58, 1]"
      ]
     },
     "execution_count": 2,
     "metadata": {},
     "output_type": "execute_result"
    }
   ],
   "source": [
    "'''\n",
    "Load data into large array:\n",
    "[\n",
    "    [xray_image_nparray,(0:normal,1:abnormal),age, gender (0:F, 1:M)],\n",
    "    [],...\n",
    "]\n",
    "'''\n",
    "\n",
    "with open('Data_Entry_2017.csv','r') as csv:\n",
    "    subjects = []\n",
    "    for d, row in tqdm(enumerate(csv)):\n",
    "        if d == 0:\n",
    "            continue\n",
    "        pat = row.strip().split(',')\n",
    "        pat = [f for i, f in enumerate(pat) if i in [0,1,4,5]]\n",
    "        pat[2] = int(pat[2][:-1])\n",
    "        pat[3] = 0 if pat[3] == 'F' else 1\n",
    "        pat[1] = 0 if pat[1] == 'No Finding' else 1\n",
    "        pat[0] = cv2.imread(f'images/{pat[0]}',cv2.IMREAD_GRAYSCALE)\n",
    "        subjects.append(pat)\n",
    "        \n",
    "    subjects.pop(0)\n",
    "    #subjects.sort(key=lambda x: x[0])\n",
    "subjects[0]"
   ]
  },
  {
   "cell_type": "code",
   "execution_count": 4,
   "metadata": {},
   "outputs": [
    {
     "ename": "ValueError",
     "evalue": "Object arrays cannot be saved when allow_pickle=False",
     "output_type": "error",
     "traceback": [
      "\u001b[0;31m---------------------------------------------------------------------------\u001b[0m",
      "\u001b[0;31mValueError\u001b[0m                                Traceback (most recent call last)",
      "\u001b[0;32m<ipython-input-4-93bc674d096f>\u001b[0m in \u001b[0;36m<module>\u001b[0;34m()\u001b[0m\n\u001b[0;32m----> 1\u001b[0;31m \u001b[0mnp\u001b[0m\u001b[0;34m.\u001b[0m\u001b[0msave\u001b[0m\u001b[0;34m(\u001b[0m\u001b[0;34m'all_xrays_data.npy'\u001b[0m\u001b[0;34m,\u001b[0m\u001b[0msubjects\u001b[0m\u001b[0;34m,\u001b[0m\u001b[0;32mFalse\u001b[0m\u001b[0;34m)\u001b[0m\u001b[0;34m\u001b[0m\u001b[0m\n\u001b[0m",
      "\u001b[0;32m/Users/default/anaconda/lib/python3.6/site-packages/numpy/lib/npyio.py\u001b[0m in \u001b[0;36msave\u001b[0;34m(file, arr, allow_pickle, fix_imports)\u001b[0m\n\u001b[1;32m    507\u001b[0m         \u001b[0marr\u001b[0m \u001b[0;34m=\u001b[0m \u001b[0mnp\u001b[0m\u001b[0;34m.\u001b[0m\u001b[0masanyarray\u001b[0m\u001b[0;34m(\u001b[0m\u001b[0marr\u001b[0m\u001b[0;34m)\u001b[0m\u001b[0;34m\u001b[0m\u001b[0m\n\u001b[1;32m    508\u001b[0m         format.write_array(fid, arr, allow_pickle=allow_pickle,\n\u001b[0;32m--> 509\u001b[0;31m                            pickle_kwargs=pickle_kwargs)\n\u001b[0m\u001b[1;32m    510\u001b[0m     \u001b[0;32mfinally\u001b[0m\u001b[0;34m:\u001b[0m\u001b[0;34m\u001b[0m\u001b[0m\n\u001b[1;32m    511\u001b[0m         \u001b[0;32mif\u001b[0m \u001b[0mown_fid\u001b[0m\u001b[0;34m:\u001b[0m\u001b[0;34m\u001b[0m\u001b[0m\n",
      "\u001b[0;32m/Users/default/anaconda/lib/python3.6/site-packages/numpy/lib/format.py\u001b[0m in \u001b[0;36mwrite_array\u001b[0;34m(fp, array, version, allow_pickle, pickle_kwargs)\u001b[0m\n\u001b[1;32m    570\u001b[0m         \u001b[0;31m# pickle protocol.\u001b[0m\u001b[0;34m\u001b[0m\u001b[0;34m\u001b[0m\u001b[0m\n\u001b[1;32m    571\u001b[0m         \u001b[0;32mif\u001b[0m \u001b[0;32mnot\u001b[0m \u001b[0mallow_pickle\u001b[0m\u001b[0;34m:\u001b[0m\u001b[0;34m\u001b[0m\u001b[0m\n\u001b[0;32m--> 572\u001b[0;31m             raise ValueError(\"Object arrays cannot be saved when \"\n\u001b[0m\u001b[1;32m    573\u001b[0m                              \"allow_pickle=False\")\n\u001b[1;32m    574\u001b[0m         \u001b[0;32mif\u001b[0m \u001b[0mpickle_kwargs\u001b[0m \u001b[0;32mis\u001b[0m \u001b[0;32mNone\u001b[0m\u001b[0;34m:\u001b[0m\u001b[0;34m\u001b[0m\u001b[0m\n",
      "\u001b[0;31mValueError\u001b[0m: Object arrays cannot be saved when allow_pickle=False"
     ]
    }
   ],
   "source": [
    "np.save('all_xrays_data.npy',subjects)"
   ]
  },
  {
   "cell_type": "code",
   "execution_count": null,
   "metadata": {
    "collapsed": true
   },
   "outputs": [],
   "source": [
    "'''\n",
    "split array into data, labels\n",
    "labels: [0: normal, 1:abnoraml]\n",
    "data: [\n",
    "        [x_array, age, gender (0:F, 1:M)],\n",
    "        [...],\n",
    "        ...\n",
    "        ]\n",
    "'''\n",
    "#subjects = np.load('all_xrays_data.npy')\n",
    "if len(data[0]) > 3:\n",
    "    data = subjects\n",
    "    labels = [s.pop(1) for s in data]\n",
    "    data = subjects\n",
    "data[0]"
   ]
  }
 ],
 "metadata": {
  "kernelspec": {
   "display_name": "Python 3",
   "language": "python",
   "name": "python3"
  },
  "language_info": {
   "codemirror_mode": {
    "name": "ipython",
    "version": 3
   },
   "file_extension": ".py",
   "mimetype": "text/x-python",
   "name": "python",
   "nbconvert_exporter": "python",
   "pygments_lexer": "ipython3",
   "version": "3.6.1"
  }
 },
 "nbformat": 4,
 "nbformat_minor": 2
}
