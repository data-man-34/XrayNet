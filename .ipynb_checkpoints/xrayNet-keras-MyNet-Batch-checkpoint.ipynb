{
 "cells": [
  {
   "cell_type": "code",
   "execution_count": 1,
   "metadata": {},
   "outputs": [
    {
     "name": "stderr",
     "output_type": "stream",
     "text": [
      "D:\\anaconda\\lib\\site-packages\\h5py\\__init__.py:36: FutureWarning: Conversion of the second argument of issubdtype from `float` to `np.floating` is deprecated. In future, it will be treated as `np.float64 == np.dtype(float).type`.\n",
      "  from ._conv import register_converters as _register_converters\n",
      "Using TensorFlow backend.\n"
     ]
    }
   ],
   "source": [
    "import keras\n",
    "import h5py\n",
    "import cv2\n",
    "import numpy as np\n",
    "import random\n",
    "from keras.models import Sequential\n",
    "from keras.layers import Dense, Dropout, Flatten, Activation\n",
    "from keras.layers import Conv2D, MaxPooling2D, BatchNormalization\n",
    "from keras.preprocessing.image import ImageDataGenerator,img_to_array, load_img\n",
    "from keras import backend as K\n",
    "from tqdm import tqdm\n",
    "from keras_tqdm import TQDMNotebookCallback\n",
    "from tqdm import tqdm_notebook\n",
    "import os\n",
    "\n",
    "IMG_SIZE = 256\n",
    "BATCH_SIZE = 64\n",
    "NB_EPOCHS = 10\n",
    "\n",
    "MODEL_NAME = 'xrayNet-keras-v2.1' #gve the model a name\n"
   ]
  },
  {
   "cell_type": "code",
   "execution_count": null,
   "metadata": {
    "collapsed": true
   },
   "outputs": [],
   "source": []
  },
  {
   "cell_type": "code",
   "execution_count": 2,
   "metadata": {
    "collapsed": true
   },
   "outputs": [],
   "source": [
    "def arr_to_bw(arr):\n",
    "    nu = []\n",
    "    for im in arr:\n",
    "        nu.append(cv2.resize(cv2.cvtColor(im, cv2.COLOR_RGB2GRAY),(IMG_SIZE,IMG_SIZE)))\n",
    "    return np.array(nu).reshape(-1,IMG_SIZE,IMG_SIZE,1)"
   ]
  },
  {
   "cell_type": "code",
   "execution_count": 3,
   "metadata": {
    "collapsed": true
   },
   "outputs": [],
   "source": [
    "from keras import callbacks\n",
    "\n",
    "reduce_learning = callbacks.ReduceLROnPlateau(\n",
    "    monitor='val_loss',\n",
    "    factor=0.2,\n",
    "    patience=2,\n",
    "    verbose=1,\n",
    "    mode='auto',\n",
    "    epsilon=0.0001,\n",
    "    cooldown=2,\n",
    "    min_lr=0)\n",
    "\n",
    "eary_stopping = callbacks.EarlyStopping(\n",
    "    monitor='val_loss',\n",
    "    min_delta=0,\n",
    "    patience=7,\n",
    "    verbose=1,\n",
    "    mode='auto')\n",
    "\n",
    "callbacks = [TQDMNotebookCallback()] #,eary_stopping, reduce_learning]"
   ]
  },
  {
   "cell_type": "code",
   "execution_count": 4,
   "metadata": {
    "collapsed": true
   },
   "outputs": [],
   "source": [
    "from keras.optimizers import Adam\n",
    "\n",
    "model = Sequential()\n",
    "model.add(Conv2D(128, (3, 3), input_shape=(IMG_SIZE,IMG_SIZE,1)))\n",
    "model.add(BatchNormalization())\n",
    "model.add(Activation('relu'))\n",
    "model.add(MaxPooling2D(pool_size=(2, 2)))\n",
    "\n",
    "model.add(Conv2D(64, (3, 3)))\n",
    "model.add(BatchNormalization())\n",
    "model.add(Activation('relu'))\n",
    "model.add(Dropout(0.2))\n",
    "model.add(MaxPooling2D(pool_size=(2, 2)))\n",
    "\n",
    "model.add(Flatten())\n",
    "model.add(Dense(64))\n",
    "model.add(Dropout(0.4))\n",
    "model.add(BatchNormalization())\n",
    "model.add(Activation('relu'))\n",
    "\n",
    "model.add(Dense(1))\n",
    "model.add(Activation('sigmoid'))\n",
    "\n",
    "model.compile(loss='binary_crossentropy',\n",
    "              optimizer=Adam(lr=0.0001),\n",
    "              metrics=['accuracy'])"
   ]
  },
  {
   "cell_type": "code",
   "execution_count": 7,
   "metadata": {},
   "outputs": [
    {
     "name": "stdout",
     "output_type": "stream",
     "text": [
      "Train on 9000 samples, validate on 1000 samples\n"
     ]
    },
    {
     "data": {
      "application/vnd.jupyter.widget-view+json": {
       "model_id": "6bbd9a3e50a246bd99fa3ecec739c00a"
      }
     },
     "metadata": {},
     "output_type": "display_data"
    },
    {
     "name": "stdout",
     "output_type": "stream",
     "text": [
      "\n"
     ]
    },
    {
     "data": {
      "application/vnd.jupyter.widget-view+json": {
       "model_id": "05dcfddcae0c469e9ea91be269bc0db6"
      }
     },
     "metadata": {},
     "output_type": "display_data"
    },
    {
     "name": "stdout",
     "output_type": "stream",
     "text": [
      "Epoch 1/10\n",
      " - 139s - loss: 0.7014 - acc: 0.5984 - val_loss: 0.6369 - val_acc: 0.6680\n"
     ]
    },
    {
     "data": {
      "application/vnd.jupyter.widget-view+json": {
       "model_id": "1b6343f2f38c4756bafb4506422b3e31"
      }
     },
     "metadata": {},
     "output_type": "display_data"
    },
    {
     "name": "stdout",
     "output_type": "stream",
     "text": [
      "Epoch 2/10\n",
      " - 138s - loss: 0.6784 - acc: 0.6102 - val_loss: 0.6973 - val_acc: 0.5350\n"
     ]
    },
    {
     "data": {
      "application/vnd.jupyter.widget-view+json": {
       "model_id": "6f7875a862284ca593b80162306eca28"
      }
     },
     "metadata": {},
     "output_type": "display_data"
    },
    {
     "name": "stdout",
     "output_type": "stream",
     "text": [
      "Epoch 3/10\n",
      " - 138s - loss: 0.6533 - acc: 0.6336 - val_loss: 0.6491 - val_acc: 0.6440\n"
     ]
    },
    {
     "data": {
      "application/vnd.jupyter.widget-view+json": {
       "model_id": "ae395ff08a314ee2bd569712ceefa6d8"
      }
     },
     "metadata": {},
     "output_type": "display_data"
    },
    {
     "name": "stdout",
     "output_type": "stream",
     "text": [
      "Epoch 4/10\n",
      " - 138s - loss: 0.6238 - acc: 0.6601 - val_loss: 0.6747 - val_acc: 0.5650\n"
     ]
    },
    {
     "data": {
      "application/vnd.jupyter.widget-view+json": {
       "model_id": "57d767dd88964f89a5c56984f39aa2c9"
      }
     },
     "metadata": {},
     "output_type": "display_data"
    },
    {
     "name": "stdout",
     "output_type": "stream",
     "text": [
      "Epoch 5/10\n",
      " - 138s - loss: 0.6001 - acc: 0.6831 - val_loss: 0.6754 - val_acc: 0.6150\n"
     ]
    },
    {
     "data": {
      "application/vnd.jupyter.widget-view+json": {
       "model_id": "8cf3c1c6886f478b9d4987a91122308c"
      }
     },
     "metadata": {},
     "output_type": "display_data"
    },
    {
     "name": "stdout",
     "output_type": "stream",
     "text": [
      "Epoch 6/10\n",
      " - 138s - loss: 0.5646 - acc: 0.7100 - val_loss: 0.6495 - val_acc: 0.6430\n"
     ]
    },
    {
     "data": {
      "application/vnd.jupyter.widget-view+json": {
       "model_id": "7da425636ae44d3daa79121aa188a1a2"
      }
     },
     "metadata": {},
     "output_type": "display_data"
    },
    {
     "name": "stdout",
     "output_type": "stream",
     "text": [
      "Epoch 7/10\n",
      " - 138s - loss: 0.5137 - acc: 0.7472 - val_loss: 0.7016 - val_acc: 0.6210\n"
     ]
    },
    {
     "data": {
      "application/vnd.jupyter.widget-view+json": {
       "model_id": "71d28deb9ef4450ea1ce035ade378a66"
      }
     },
     "metadata": {},
     "output_type": "display_data"
    },
    {
     "name": "stdout",
     "output_type": "stream",
     "text": [
      "Epoch 8/10\n",
      " - 138s - loss: 0.4659 - acc: 0.7838 - val_loss: 0.6624 - val_acc: 0.6350\n"
     ]
    },
    {
     "data": {
      "application/vnd.jupyter.widget-view+json": {
       "model_id": "306c4b0761424f19a0b24041c0485269"
      }
     },
     "metadata": {},
     "output_type": "display_data"
    },
    {
     "name": "stdout",
     "output_type": "stream",
     "text": [
      "Epoch 9/10\n",
      " - 138s - loss: 0.4107 - acc: 0.8196 - val_loss: 0.7001 - val_acc: 0.6510\n"
     ]
    },
    {
     "data": {
      "application/vnd.jupyter.widget-view+json": {
       "model_id": "1628714a504a4acf80515d100ce0edba"
      }
     },
     "metadata": {},
     "output_type": "display_data"
    },
    {
     "name": "stdout",
     "output_type": "stream",
     "text": [
      "Epoch 10/10\n",
      " - 139s - loss: 0.3619 - acc: 0.8560 - val_loss: 0.7354 - val_acc: 0.6060\n",
      "\n"
     ]
    }
   ],
   "source": [
    "os.chdir('C:/Science_Research/')\n",
    "\n",
    "X_train = arr_to_bw(np.load(f'image_batches/X_train_{0}.npy'))\n",
    "Y_train = np.load(f'image_batches/Y_train_{0}.npy').reshape(-1,1)\n",
    "\n",
    "history = model.fit(\n",
    "        X_train,\n",
    "        Y_train,\n",
    "        batch_size=16,\n",
    "        epochs=10,\n",
    "        validation_split=0.1,\n",
    "        verbose = 2,\n",
    "        callbacks=callbacks\n",
    "        )"
   ]
  },
  {
   "cell_type": "code",
   "execution_count": 19,
   "metadata": {},
   "outputs": [
    {
     "data": {
      "application/vnd.jupyter.widget-view+json": {
       "model_id": "6e43a9943af64a069ce19a24c7f70af6"
      }
     },
     "metadata": {},
     "output_type": "display_data"
    },
    {
     "name": "stdout",
     "output_type": "stream",
     "text": [
      "---------STARTING BATCH #1/10------\n",
      "data loaded.\n",
      "Starting Training...\n",
      "Train on 9000 samples, validate on 1000 samples\n"
     ]
    },
    {
     "data": {
      "application/vnd.jupyter.widget-view+json": {
       "model_id": "55c6c2d4470740c79c67cf1dc228b9e3"
      }
     },
     "metadata": {},
     "output_type": "display_data"
    },
    {
     "name": "stdout",
     "output_type": "stream",
     "text": [
      "\n"
     ]
    },
    {
     "data": {
      "application/vnd.jupyter.widget-view+json": {
       "model_id": "7244d8ced0584be881469f359237515f"
      }
     },
     "metadata": {},
     "output_type": "display_data"
    },
    {
     "name": "stdout",
     "output_type": "stream",
     "text": [
      "Epoch 1/2\n",
      " - 132s - loss: 0.6669 - acc: 0.6214 - val_loss: 0.6407 - val_acc: 0.6560\n"
     ]
    },
    {
     "data": {
      "application/vnd.jupyter.widget-view+json": {
       "model_id": "539a6555f88242a28868d4388b6836eb"
      }
     },
     "metadata": {},
     "output_type": "display_data"
    },
    {
     "name": "stdout",
     "output_type": "stream",
     "text": [
      "Epoch 2/2\n",
      " - 132s - loss: 0.6445 - acc: 0.6394 - val_loss: 0.6382 - val_acc: 0.6580\n",
      "---------STARTING BATCH #2/10------\n",
      "data loaded.\n",
      "Starting Training...\n",
      "Train on 9000 samples, validate on 1000 samples\n"
     ]
    },
    {
     "data": {
      "application/vnd.jupyter.widget-view+json": {
       "model_id": "d4ca8edbdb654932bbdf94f71a86c4c9"
      }
     },
     "metadata": {},
     "output_type": "display_data"
    },
    {
     "data": {
      "application/vnd.jupyter.widget-view+json": {
       "model_id": "c4b54a9ec5ca41d88b0c25e66133a4d3"
      }
     },
     "metadata": {},
     "output_type": "display_data"
    },
    {
     "name": "stdout",
     "output_type": "stream",
     "text": [
      "Epoch 1/2\n",
      " - 130s - loss: 0.6605 - acc: 0.6262 - val_loss: 0.6585 - val_acc: 0.6220\n"
     ]
    },
    {
     "data": {
      "application/vnd.jupyter.widget-view+json": {
       "model_id": "b69922f4e6b44b809af68ecc97408f1e"
      }
     },
     "metadata": {},
     "output_type": "display_data"
    },
    {
     "name": "stdout",
     "output_type": "stream",
     "text": [
      "Epoch 2/2\n",
      " - 130s - loss: 0.6384 - acc: 0.6410 - val_loss: 0.6422 - val_acc: 0.6190\n",
      "---------STARTING BATCH #3/10------\n",
      "data loaded.\n",
      "Starting Training...\n",
      "Train on 9000 samples, validate on 1000 samples\n"
     ]
    },
    {
     "data": {
      "application/vnd.jupyter.widget-view+json": {
       "model_id": "35afdf83750944109c7c9d80b766241c"
      }
     },
     "metadata": {},
     "output_type": "display_data"
    },
    {
     "data": {
      "application/vnd.jupyter.widget-view+json": {
       "model_id": "9c9f96178eb643d083747561fc29cfec"
      }
     },
     "metadata": {},
     "output_type": "display_data"
    },
    {
     "name": "stdout",
     "output_type": "stream",
     "text": [
      "Epoch 1/2\n",
      " - 126s - loss: 0.6515 - acc: 0.6364 - val_loss: 0.6503 - val_acc: 0.6380\n"
     ]
    },
    {
     "data": {
      "application/vnd.jupyter.widget-view+json": {
       "model_id": "2b132c4dc38044949f5e12f115e6a9df"
      }
     },
     "metadata": {},
     "output_type": "display_data"
    },
    {
     "name": "stdout",
     "output_type": "stream",
     "text": [
      "Epoch 2/2\n",
      " - 130s - loss: 0.6388 - acc: 0.6480 - val_loss: 0.6448 - val_acc: 0.6390\n",
      "---------STARTING BATCH #4/10------\n",
      "data loaded.\n",
      "Starting Training...\n",
      "Train on 9000 samples, validate on 1000 samples\n"
     ]
    },
    {
     "data": {
      "application/vnd.jupyter.widget-view+json": {
       "model_id": "d82dfed4e3d341d2a1fb65e7da0fb9eb"
      }
     },
     "metadata": {},
     "output_type": "display_data"
    },
    {
     "data": {
      "application/vnd.jupyter.widget-view+json": {
       "model_id": "afddc7ad05dc49c8ab0561654d559c6f"
      }
     },
     "metadata": {},
     "output_type": "display_data"
    },
    {
     "name": "stdout",
     "output_type": "stream",
     "text": [
      "Epoch 1/2\n",
      " - 130s - loss: 0.6387 - acc: 0.6453 - val_loss: 0.6540 - val_acc: 0.6270\n"
     ]
    },
    {
     "data": {
      "application/vnd.jupyter.widget-view+json": {
       "model_id": "19c9d114d80748d79723235fb8012722"
      }
     },
     "metadata": {},
     "output_type": "display_data"
    },
    {
     "name": "stdout",
     "output_type": "stream",
     "text": [
      "Epoch 2/2\n",
      " - 130s - loss: 0.6204 - acc: 0.6600 - val_loss: 0.6830 - val_acc: 0.5810\n",
      "---------STARTING BATCH #5/10------\n",
      "data loaded.\n",
      "Starting Training...\n",
      "Train on 9000 samples, validate on 1000 samples\n"
     ]
    },
    {
     "data": {
      "application/vnd.jupyter.widget-view+json": {
       "model_id": "84bc89b377fa41adbedca5cdb3a5df70"
      }
     },
     "metadata": {},
     "output_type": "display_data"
    },
    {
     "data": {
      "application/vnd.jupyter.widget-view+json": {
       "model_id": "a6f69f8145264028bd44fc46004cb466"
      }
     },
     "metadata": {},
     "output_type": "display_data"
    },
    {
     "name": "stdout",
     "output_type": "stream",
     "text": [
      "Epoch 1/2\n",
      " - 130s - loss: 0.6446 - acc: 0.6399 - val_loss: 0.6330 - val_acc: 0.6580\n"
     ]
    },
    {
     "data": {
      "application/vnd.jupyter.widget-view+json": {
       "model_id": "2cec037d8adc448b860b79860468fe51"
      }
     },
     "metadata": {},
     "output_type": "display_data"
    },
    {
     "name": "stdout",
     "output_type": "stream",
     "text": [
      "Epoch 2/2\n",
      " - 130s - loss: 0.6288 - acc: 0.6494 - val_loss: 0.6361 - val_acc: 0.6610\n",
      "---------STARTING BATCH #6/10------\n",
      "data loaded.\n",
      "Starting Training...\n",
      "Train on 9000 samples, validate on 1000 samples\n"
     ]
    },
    {
     "data": {
      "application/vnd.jupyter.widget-view+json": {
       "model_id": "aaa80105cd8f4ed987559f8313fda074"
      }
     },
     "metadata": {},
     "output_type": "display_data"
    },
    {
     "data": {
      "application/vnd.jupyter.widget-view+json": {
       "model_id": "f51d37abd78649c293498980ea47667b"
      }
     },
     "metadata": {},
     "output_type": "display_data"
    },
    {
     "name": "stdout",
     "output_type": "stream",
     "text": [
      "Epoch 1/2\n",
      " - 129s - loss: 0.6382 - acc: 0.6468 - val_loss: 0.6358 - val_acc: 0.6400\n"
     ]
    },
    {
     "data": {
      "application/vnd.jupyter.widget-view+json": {
       "model_id": "73509d0757da4ecaa1397855cc4839a7"
      }
     },
     "metadata": {},
     "output_type": "display_data"
    },
    {
     "name": "stdout",
     "output_type": "stream",
     "text": [
      "Epoch 2/2\n",
      " - 130s - loss: 0.6222 - acc: 0.6632 - val_loss: 0.6720 - val_acc: 0.5760\n",
      "---------STARTING BATCH #7/10------\n",
      "data loaded.\n",
      "Starting Training...\n",
      "Train on 9000 samples, validate on 1000 samples\n"
     ]
    },
    {
     "data": {
      "application/vnd.jupyter.widget-view+json": {
       "model_id": "b197eb5c23654a9f9f20df4fb366ead4"
      }
     },
     "metadata": {},
     "output_type": "display_data"
    },
    {
     "data": {
      "application/vnd.jupyter.widget-view+json": {
       "model_id": "5fdfc38cc0574773a8fe2afeebb991c0"
      }
     },
     "metadata": {},
     "output_type": "display_data"
    },
    {
     "name": "stdout",
     "output_type": "stream",
     "text": [
      "Epoch 1/2\n",
      " - 130s - loss: 0.6343 - acc: 0.6542 - val_loss: 0.6340 - val_acc: 0.6470\n"
     ]
    },
    {
     "data": {
      "application/vnd.jupyter.widget-view+json": {
       "model_id": "b50093bdb04e40b4bf5dd6469f577e4a"
      }
     },
     "metadata": {},
     "output_type": "display_data"
    },
    {
     "name": "stdout",
     "output_type": "stream",
     "text": [
      "Epoch 2/2\n",
      " - 130s - loss: 0.6200 - acc: 0.6674 - val_loss: 0.6328 - val_acc: 0.6520\n",
      "---------STARTING BATCH #8/10------\n",
      "data loaded.\n",
      "Starting Training...\n",
      "Train on 9000 samples, validate on 1000 samples\n"
     ]
    },
    {
     "data": {
      "application/vnd.jupyter.widget-view+json": {
       "model_id": "2dad75dd955a4674a148a7b4a35f4161"
      }
     },
     "metadata": {},
     "output_type": "display_data"
    },
    {
     "data": {
      "application/vnd.jupyter.widget-view+json": {
       "model_id": "b9113b585b6147ecb8198f89a1eca714"
      }
     },
     "metadata": {},
     "output_type": "display_data"
    },
    {
     "name": "stdout",
     "output_type": "stream",
     "text": [
      "Epoch 1/2\n",
      " - 130s - loss: 0.6364 - acc: 0.6482 - val_loss: 0.6275 - val_acc: 0.6620\n"
     ]
    },
    {
     "data": {
      "application/vnd.jupyter.widget-view+json": {
       "model_id": "b7c3ff0547e642ed94939c3f50264697"
      }
     },
     "metadata": {},
     "output_type": "display_data"
    },
    {
     "name": "stdout",
     "output_type": "stream",
     "text": [
      "Epoch 2/2\n",
      " - 130s - loss: 0.6186 - acc: 0.6689 - val_loss: 0.6286 - val_acc: 0.6480\n",
      "---------STARTING BATCH #9/10------\n",
      "data loaded.\n",
      "Starting Training...\n",
      "Train on 9000 samples, validate on 1000 samples\n"
     ]
    },
    {
     "data": {
      "application/vnd.jupyter.widget-view+json": {
       "model_id": "64fd4171ecdd4df2a68e37697542b2fc"
      }
     },
     "metadata": {},
     "output_type": "display_data"
    },
    {
     "data": {
      "application/vnd.jupyter.widget-view+json": {
       "model_id": "413304bc82154aedb7789a1d0d5df4b3"
      }
     },
     "metadata": {},
     "output_type": "display_data"
    },
    {
     "name": "stdout",
     "output_type": "stream",
     "text": [
      "Epoch 1/2\n",
      " - 130s - loss: 0.6405 - acc: 0.6463 - val_loss: 0.6259 - val_acc: 0.6640\n"
     ]
    },
    {
     "data": {
      "application/vnd.jupyter.widget-view+json": {
       "model_id": "c1e59fc8f9574df3ad393d0b73a5f546"
      }
     },
     "metadata": {},
     "output_type": "display_data"
    },
    {
     "name": "stdout",
     "output_type": "stream",
     "text": [
      "Epoch 2/2\n",
      " - 130s - loss: 0.6197 - acc: 0.6652 - val_loss: 0.6206 - val_acc: 0.6640\n",
      "---------STARTING BATCH #10/10------\n",
      "data loaded.\n",
      "Starting Training...\n",
      "Train on 9000 samples, validate on 1000 samples\n"
     ]
    },
    {
     "data": {
      "application/vnd.jupyter.widget-view+json": {
       "model_id": "0cf5f2ddcce54785a8ed14c1124f810f"
      }
     },
     "metadata": {},
     "output_type": "display_data"
    },
    {
     "data": {
      "application/vnd.jupyter.widget-view+json": {
       "model_id": "236faa033b8b4d1a86062de5ebcc5291"
      }
     },
     "metadata": {},
     "output_type": "display_data"
    },
    {
     "name": "stdout",
     "output_type": "stream",
     "text": [
      "Epoch 1/2\n",
      " - 131s - loss: 0.6346 - acc: 0.6476 - val_loss: 0.6406 - val_acc: 0.6370\n"
     ]
    },
    {
     "data": {
      "application/vnd.jupyter.widget-view+json": {
       "model_id": "df954c9ddfbc4123ba35aca9f4c280c9"
      }
     },
     "metadata": {},
     "output_type": "display_data"
    },
    {
     "name": "stdout",
     "output_type": "stream",
     "text": [
      "Epoch 2/2\n",
      " - 131s - loss: 0.6165 - acc: 0.6677 - val_loss: 0.6982 - val_acc: 0.5720\n",
      "\n"
     ]
    }
   ],
   "source": [
    "os.chdir('C:/Science_Research/')\n",
    "histories = []\n",
    "for bat in tqdm_notebook(range(10)):\n",
    "    print(f\"---------STARTING BATCH #{bat+1}/{NB_EPOCHS}------\")\n",
    "    X_train = arr_to_bw(np.load(f'image_batches/X_train_{bat}.npy'))\n",
    "    Y_train = np.load(f'image_batches/Y_train_{bat}.npy').reshape(-1,1)\n",
    "    \n",
    "    \n",
    "    print(\"data loaded.\\nStarting Training...\")\n",
    "    history = model.fit(\n",
    "        X_train,\n",
    "        Y_train,\n",
    "        batch_size=32,\n",
    "        epochs=10,\n",
    "        validation_split=0.1,\n",
    "        verbose = 2,\n",
    "        callbacks=callbacks\n",
    "        )\n",
    "    histories.append(history)"
   ]
  },
  {
   "cell_type": "code",
   "execution_count": 9,
   "metadata": {},
   "outputs": [
    {
     "data": {
      "image/png": "[encoded data removed]",
      "text/plain": [
       "<matplotlib.figure.Figure at 0x1b1e029ecf8>"
      ]
     },
     "metadata": {},
     "output_type": "display_data"
    },
    {
     "data": {
      "image/png": "[encoded data removed]",
      "text/plain": [
       "<matplotlib.figure.Figure at 0x1b1e3523940>"
      ]
     },
     "metadata": {},
     "output_type": "display_data"
    }
   ],
   "source": [
    "import matplotlib.pyplot as plt\n",
    "\n",
    "acc = []\n",
    "val_acc = []\n",
    "loss = []\n",
    "val_loss= []\n",
    "\n",
    "acc += history.history['acc']\n",
    "val_acc += history.history['val_acc']\n",
    "loss += history.history['loss']\n",
    "val_loss += history.history['val_loss']\n",
    "\n",
    "\n",
    "epochs = range(1, len(acc) + 1)\n",
    "\n",
    "plt.title('Training and validation accuracy')\n",
    "plt.plot(epochs, acc, 'red', label='Training acc')\n",
    "plt.plot(epochs, val_acc, 'blue', label='Validation acc')\n",
    "plt.legend()\n",
    "\n",
    "plt.figure()\n",
    "plt.title('Training and validation loss')\n",
    "plt.plot(epochs, loss, 'red', label='Training loss')\n",
    "plt.plot(epochs, val_loss, 'blue', label='Validation loss')\n",
    "\n",
    "plt.legend()\n",
    "\n",
    "plt.show()"
   ]
  },
  {
   "cell_type": "code",
   "execution_count": null,
   "metadata": {
    "collapsed": true
   },
   "outputs": [],
   "source": []
  }
 ],
 "metadata": {
  "kernelspec": {
   "display_name": "Python 3",
   "language": "python",
   "name": "python3"
  },
  "language_info": {
   "codemirror_mode": {
    "name": "ipython",
    "version": 3
   },
   "file_extension": ".py",
   "mimetype": "text/x-python",
   "name": "python",
   "nbconvert_exporter": "python",
   "pygments_lexer": "ipython3",
   "version": "3.6.1"
  }
 },
 "nbformat": 4,
 "nbformat_minor": 2
}
