{
 "cells": [
  {
   "cell_type": "code",
   "execution_count": null,
   "metadata": {},
   "outputs": [],
   "source": [
    "import keras\n",
    "import h5py\n",
    "import numpy as np\n",
    "import random\n",
    "import cv2\n",
    "from keras_tqdm import TQDMNotebookCallback\n",
    "from tqdm import tqdm_notebook\n",
    "\n",
    "infodir = 'C:/Science_Research/xraynet_data/images'\n",
    "test_path = f'{infodir}/test.h5'\n",
    "train_path = f'{infodir}/train.h5'\n",
    "MODEL_NAME ='xrayNet-keras-CapsNet-v1' #gve the model a name\n",
    "IMG_SIZE = 128\n",
    "# input image dimensions"
   ]
  },
  {
   "cell_type": "code",
   "execution_count": null,
   "metadata": {},
   "outputs": [],
   "source": [
    "from matplotlib import pyplot as plt\n",
    "import h5py\n",
    "\n",
    "h5f = h5py.File(test_path, 'r')\n",
    "image = h5f['X'][11]\n",
    "print(h5f['Y'][11])\n",
    "plt.imshow(image, cmap='gray')\n",
    "plt.show()\n",
    "im = image*255\n",
    "im = cv2.equalizeHist(im.astype('uint8'))\n",
    "plt.imshow(im.astype('float32'), cmap='gray')\n",
    "plt.show()\n",
    "h5f.close()"
   ]
  },
  {
   "cell_type": "code",
   "execution_count": null,
   "metadata": {
    "collapsed": true
   },
   "outputs": [],
   "source": [
    "def load_val():\n",
    "    h5f = h5py.File(test_path, 'r')\n",
    "    X_val_pre = h5f['X']\n",
    "    Y_val_pre = h5f['Y']\n",
    "\n",
    "    X_val = []\n",
    "    Y_val = []\n",
    "\n",
    "\n",
    "\n",
    "    for image in tqdm_notebook(X_val_pre):\n",
    "        im = image*255\n",
    "        eq = cv2.equalizeHist(im.astype('uint8'))\n",
    "        im = eq.astype('float32')/255\n",
    "        X_val.append(cv2.cvtColor(im, cv2.COLOR_GRAY2RGB))\n",
    "\n",
    "    for label in tqdm_notebook(Y_val_pre):\n",
    "        Y_val.append(label[0])\n",
    "        \n",
    "    h5f.close()\n",
    "    return X_val, Y_val\n",
    "    \n",
    "def load_data_batch(start,stop):\n",
    "    h5f = h5py.File(train_path, 'r')\n",
    "    X_train_pre = h5f['X'][start:stop]\n",
    "    Y_train_pre = h5f['Y'][start:stop]\n",
    "\n",
    "    X_train = []\n",
    "    Y_train = []\n",
    "\n",
    "    for image in tqdm_notebook(X_train_pre):\n",
    "        im = image*255\n",
    "        eq = cv2.equalizeHist(im.astype('uint8'))\n",
    "        im = eq.astype('float32')/255\n",
    "        X_train.append(cv2.cvtColor(im, cv2.COLOR_GRAY2RGB))\n",
    "\n",
    "    for label in tqdm_notebook(Y_train_pre):\n",
    "        Y_train.append(label[0])\n",
    "        \n",
    "    h5f.close()        \n",
    "    return X_train, Y_train\n"
   ]
  },
  {
   "cell_type": "code",
   "execution_count": null,
   "metadata": {},
   "outputs": [],
   "source": [
    "import os\n",
    "    if 'X_val.npy' not in os.listdir('C:/Science_Research/image_batches/image_batches/'):\n",
    "        X_val, Y_val = load_val()\n",
    "        np.save('image_batches/X_val',X_val)\n",
    "        np.save('image_batches/Y_val',Y_val)\n",
    "\n",
    "        for start in range(0,100000,10000):\n",
    "            X_train, Y_train = load_data_batch(start,start+10000)\n",
    "            np.save(f'image_batches/X_train_{start//10000}',X_train)\n",
    "            np.save(f'image_batches/Y_train_{start//10000}',Y_train)\n",
    "    else:\n",
    "        X_train = np.load()\n",
    "        Y_train = np.load()\n",
    "        \n",
    "        X_val = np.load()\n",
    "        Y_val = np.load()"
   ]
  },
  {
   "cell_type": "code",
   "execution_count": 3,
   "metadata": {},
   "outputs": [
    {
     "data": {
      "text/plain": [
       "False"
      ]
     },
     "execution_count": 3,
     "metadata": {},
     "output_type": "execute_result"
    }
   ],
   "source": [
    "import os\n",
    "'X_val.npy' not in os.listdir('C:/Science_Research/image_batches/')"
   ]
  },
  {
   "cell_type": "code",
   "execution_count": null,
   "metadata": {},
   "outputs": [],
   "source": [
    "BW_train = []\n",
    "BW_val = []\n",
    "\n",
    "for image in tqdm_notebook(X_train):\n",
    "    #BW_train.append(cv2.cvtColor(image, cv2.COLOR_RGB2GRAY))\n",
    "    BW_train.append(cv2.resize(image, (IMG_SIZE,IMG_SIZE)))\n",
    "    \n",
    "for image in tqdm_notebook(X_val):\n",
    "    #BW_val.append(cv2.cvtColor(image, cv2.COLOR_RGB2GRAY))\n",
    "    BW_val.append(cv2.resize(image, (IMG_SIZE,IMG_SIZE)))\n",
    "X_train = BW_train\n",
    "X_val = BW_val"
   ]
  },
  {
   "cell_type": "code",
   "execution_count": null,
   "metadata": {
    "collapsed": true
   },
   "outputs": [],
   "source": [
    "X_train = np.array(X_train)\n",
    "X_val = np.array(X_val)"
   ]
  },
  {
   "cell_type": "code",
   "execution_count": null,
   "metadata": {},
   "outputs": [],
   "source": [
    "print(X_train.shape, X_val.shape, Y_val.shape, Y_train.shape)"
   ]
  },
  {
   "cell_type": "code",
   "execution_count": null,
   "metadata": {
    "collapsed": true
   },
   "outputs": [],
   "source": [
    "Y_train = 1 - Y_train.astype('int')\n",
    "Y_train = np.eye(2)[Y_train]\n",
    "\n",
    "Y_val = 1 - Y_val.astype('int')\n",
    "Y_val = np.eye(2)[Y_val]"
   ]
  },
  {
   "cell_type": "code",
   "execution_count": null,
   "metadata": {
    "collapsed": true
   },
   "outputs": [],
   "source": [
    "X_train = X_train[:5000].reshape(-1,IMG_SIZE,IMG_SIZE,1)\n",
    "Y_train = Y_train[:5000]\n",
    "\n",
    "X_val = X_val[:500].reshape(-1,IMG_SIZE,IMG_SIZE,1)\n",
    "Y_val = Y_val[:500]\n"
   ]
  },
  {
   "cell_type": "code",
   "execution_count": null,
   "metadata": {
    "collapsed": true
   },
   "outputs": [],
   "source": [
    "from keras import models\n",
    "from keras import layers\n",
    "from keras import optimizers\n",
    "from keras import callbacks\n",
    "from keras import backend as K\n",
    "\n",
    "# Import the network architecture\n",
    "IMG_WIDTH = IMG_SIZE\n",
    "IMG_HEIGHT = IMG_SIZE\n",
    "IMG_DEPTH = 1\n",
    "BATCH_SIZE = 64\n",
    "NB_EPOCHS = 15\n",
    "\n",
    "shape, classes = (IMG_WIDTH, IMG_HEIGHT, IMG_DEPTH), 2"
   ]
  },
  {
   "cell_type": "code",
   "execution_count": null,
   "metadata": {
    "collapsed": true
   },
   "outputs": [],
   "source": [
    "import numpy as np\n",
    "from keras import layers, models, optimizers\n",
    "from keras import backend as K\n",
    "from keras.utils import to_categorical\n",
    "from capsulelayers import CapsuleLayer, PrimaryCap, Length, Mask\n",
    "\n",
    "K.set_image_data_format('channels_last')\n",
    "\n",
    "\n",
    "def CapsNet(input_shape, n_class, num_routing):\n",
    "    \"\"\"\n",
    "    A Capsule Network\n",
    "    :param input_shape: data shape, 3d, [width, height, channels]\n",
    "    :param n_class: number of classes\n",
    "    :param num_routing: number of routing iterations\n",
    "    :return: Two Keras Models, the first one used for training, and the second one for evaluation.\n",
    "            `eval_model` can also be used for training.\n",
    "    \"\"\"\n",
    "    x = layers.Input(shape=input_shape)\n",
    "\n",
    "    # Layer 1: Just a conventional Conv2D layer\n",
    "    conv1 = layers.Conv2D(filters=64, kernel_size=9, strides=1, padding='valid', activation='relu', name='conv1')(x)\n",
    "\n",
    "    # Layer 2: Conv2D layer with `squash` activation, then reshape to [None, num_capsule, dim_capsule]\n",
    "    primarycaps = PrimaryCap(conv1, dim_capsule=8, n_channels=32, kernel_size=9, strides=2, padding='valid')\n",
    "\n",
    "    # Layer 3: Capsule layer. Routing algorithm works here.\n",
    "    digitcaps = CapsuleLayer(num_capsule=n_class, dim_capsule=16, num_routing=num_routing,\n",
    "                             name='digitcaps')(primarycaps)\n",
    "\n",
    "    # Layer 4: This is an auxiliary layer to replace each capsule with its length. Just to match the true label's shape.\n",
    "    # If using tensorflow, this will not be necessary. :)\n",
    "    out_caps = Length(name='capsnet')(digitcaps)\n",
    "\n",
    "    # Decoder network.\n",
    "    y = layers.Input(shape=(n_class,))\n",
    "    masked_by_y = Mask()([digitcaps, y])  # The true label is used to mask the output of capsule layer. For training\n",
    "    masked = Mask()(digitcaps)  # Mask using the capsule with maximal length. For prediction\n",
    "\n",
    "    # Shared Decoder model in training and prediction\n",
    "    decoder = models.Sequential(name='decoder')\n",
    "    decoder.add(layers.Dense(128, activation='relu', input_dim=16*n_class))\n",
    "    decoder.add(layers.Dense(256, activation='relu'))\n",
    "    decoder.add(layers.Dense(np.prod(input_shape), activation='sigmoid'))\n",
    "    decoder.add(layers.Reshape(target_shape=input_shape, name='out_recon'))\n",
    "\n",
    "    # Models for training and evaluation (prediction)\n",
    "    train_model = models.Model([x, y], [out_caps, decoder(masked_by_y)])\n",
    "    #eval_model = models.Model(x, [out_caps, decoder(masked)])\n",
    "    return train_model#, eval_model\n",
    "\n",
    "\n",
    "def margin_loss(y_true, y_pred):\n",
    "    \"\"\"\n",
    "    Margin loss for Eq.(4). When y_true[i, :] contains not just one `1`, this loss should work too. Not test it.\n",
    "    :param y_true: [None, n_classes]\n",
    "    :param y_pred: [None, num_capsule]\n",
    "    :return: a scalar loss value.\n",
    "    \"\"\"\n",
    "    L = y_true * K.square(K.maximum(0., 0.9 - y_pred)) + 0.5 * (1 - y_true) * K.square(K.maximum(0., y_pred - 0.1))\n",
    "\n",
    "    return K.mean(K.sum(L, 1))\n"
   ]
  },
  {
   "cell_type": "code",
   "execution_count": null,
   "metadata": {
    "collapsed": true
   },
   "outputs": [],
   "source": [
    "model = CapsNet([IMG_SIZE,IMG_SIZE,1], 2, 3)\n",
    "\n",
    "model.compile(\n",
    "    loss='binary_crossentropy',\n",
    "    optimizer=optimizers.Adam(lr=2e-6),\n",
    "    metrics=['acc'])\n",
    "\n",
    "reduce_learning = callbacks.ReduceLROnPlateau(\n",
    "    monitor='val_loss',\n",
    "    factor=0.2,\n",
    "    patience=2,\n",
    "    verbose=1,\n",
    "    mode='auto',\n",
    "    epsilon=0.0001,\n",
    "    cooldown=2,\n",
    "    min_lr=0)\n",
    "\n",
    "eary_stopping = callbacks.EarlyStopping(\n",
    "    monitor='val_loss',\n",
    "    min_delta=0,\n",
    "    patience=7,\n",
    "    verbose=1,\n",
    "    mode='auto')\n",
    "\n",
    "cb = [TQDMNotebookCallback()] #,eary_stopping, reduce_learning]"
   ]
  },
  {
   "cell_type": "code",
   "execution_count": null,
   "metadata": {
    "scrolled": true
   },
   "outputs": [],
   "source": [
    "# Train the the model\n",
    "history = model.fit(\n",
    "    [X_train, Y_train], [Y_train, X_train],\n",
    "    epochs=NB_EPOCHS,\n",
    "    batch_size = 16,\n",
    "    validation_data=[[X_val, Y_val], [Y_val, X_val]],\n",
    "    verbose = 2,\n",
    "    callbacks=cb\n",
    ")"
   ]
  },
  {
   "cell_type": "code",
   "execution_count": null,
   "metadata": {},
   "outputs": [],
   "source": [
    "import matplotlib.pyplot as plt\n",
    "\n",
    "acc = history.history['acc']\n",
    "val_acc = history.history['val_acc']\n",
    "loss = history.history['loss']\n",
    "val_loss = history.history['val_loss']\n",
    "epochs = range(1, len(acc) + 1)\n",
    "\n",
    "plt.title('Training and validation accuracy')\n",
    "plt.plot(epochs, acc, 'red', label='Training acc')\n",
    "plt.plot(epochs, val_acc, 'blue', label='Validation acc')\n",
    "plt.legend()\n",
    "\n",
    "plt.figure()\n",
    "plt.title('Training and validation loss')\n",
    "plt.plot(epochs, loss, 'red', label='Training loss')\n",
    "plt.plot(epochs, val_loss, 'blue', label='Validation loss')\n",
    "\n",
    "plt.legend()\n",
    "\n",
    "plt.show()"
   ]
  },
  {
   "cell_type": "code",
   "execution_count": null,
   "metadata": {},
   "outputs": [],
   "source": [
    "max(val_acc)"
   ]
  },
  {
   "cell_type": "code",
   "execution_count": null,
   "metadata": {
    "collapsed": true
   },
   "outputs": [],
   "source": []
  },
  {
   "cell_type": "code",
   "execution_count": null,
   "metadata": {
    "collapsed": true
   },
   "outputs": [],
   "source": []
  },
  {
   "cell_type": "code",
   "execution_count": null,
   "metadata": {
    "collapsed": true
   },
   "outputs": [],
   "source": []
  },
  {
   "cell_type": "code",
   "execution_count": null,
   "metadata": {
    "collapsed": true
   },
   "outputs": [],
   "source": []
  },
  {
   "cell_type": "code",
   "execution_count": null,
   "metadata": {
    "collapsed": true
   },
   "outputs": [],
   "source": []
  },
  {
   "cell_type": "markdown",
   "metadata": {},
   "source": [
    "### [0, 1] == Normal == 0\n",
    "\n",
    "### [1, 0] == Abnormal == 1\n",
    "\n",
    "### [Abnormalness, Normalness]"
   ]
  },
  {
   "cell_type": "code",
   "execution_count": null,
   "metadata": {
    "collapsed": true
   },
   "outputs": [],
   "source": []
  },
  {
   "cell_type": "code",
   "execution_count": null,
   "metadata": {
    "collapsed": true
   },
   "outputs": [],
   "source": []
  },
  {
   "cell_type": "code",
   "execution_count": null,
   "metadata": {
    "collapsed": true
   },
   "outputs": [],
   "source": []
  }
 ],
 "metadata": {
  "kernelspec": {
   "display_name": "Python 3",
   "language": "python",
   "name": "python3"
  },
  "language_info": {
   "codemirror_mode": {
    "name": "ipython",
    "version": 3
   },
   "file_extension": ".py",
   "mimetype": "text/x-python",
   "name": "python",
   "nbconvert_exporter": "python",
   "pygments_lexer": "ipython3",
   "version": "3.6.1"
  }
 },
 "nbformat": 4,
 "nbformat_minor": 2
}
