{
 "cells": [
  {
   "cell_type": "code",
   "execution_count": 1,
   "metadata": {},
   "outputs": [
    {
     "name": "stderr",
     "output_type": "stream",
     "text": [
      "D:\\anaconda\\lib\\site-packages\\h5py\\__init__.py:34: FutureWarning: Conversion of the second argument of issubdtype from `float` to `np.floating` is deprecated. In future, it will be treated as `np.float64 == np.dtype(float).type`.\n",
      "  from ._conv import register_converters as _register_converters\n",
      "Using TensorFlow backend.\n"
     ]
    }
   ],
   "source": [
    "import keras\n",
    "import h5py\n",
    "import numpy as np\n",
    "import random\n",
    "from keras.models import Sequential\n",
    "from keras.layers import Dense, Dropout, Flatten, Activation\n",
    "from keras.layers import Conv2D, MaxPooling2D, BatchNormalization\n",
    "from keras.preprocessing.image import ImageDataGenerator,img_to_array, load_img\n",
    "from keras import backend as K\n",
    "from tqdm import tqdm\n",
    "import os\n",
    "\n",
    "batch_size = 16\n",
    "nb_epoch = 20\n",
    "infodir = 'C:/Science_Research/xraynet_data/images'\n",
    "imgdir = f'{infodir}/images_cat'\n",
    "train_data_dir  = f'{imgdir}/train'\n",
    "validation_data_dir = f'{imgdir}/test'\n",
    "MODEL_NAME = 'xrayNet-keras-v2.1' #gve the model a name\n",
    "# input image dimensions\n",
    "img_size = 128\n",
    "\n",
    "nb_train_samples = 100000\n",
    "nb_validation_samples = 3416"
   ]
  },
  {
   "cell_type": "code",
   "execution_count": 2,
   "metadata": {
    "collapsed": true
   },
   "outputs": [],
   "source": [
    "if not os.path.exists('path_to_label_trunc.txt'):\n",
    "    with open('Data_Entry_2017.csv','r') as csv:\n",
    "        subjects = []\n",
    "        for row in csv:\n",
    "            subjects.append(row.strip().split(',')[:2])\n",
    "        subjects.pop(0)\n",
    "        random.shuffle(subjects)\n",
    "        #subjects.sort(key=lambda x: x[1])\n",
    "\n",
    "    normal = [case for case in subjects if 'No Finding' == case[1]]\n",
    "    abnormal = [case for case in subjects if 'No Finding' != case[1]]\n",
    "\n",
    "    normal = normal[:min(len(normal),len(abnormal))]\n",
    "    abnormal = abnormal[:min(len(normal),len(abnormal))]\n",
    "\n",
    "    trunc_lists = normal + abnormal\n",
    "    random.shuffle(trunc_lists)\n",
    "    with open('path_to_label_trunc.txt','w') as out_txt:\n",
    "        for row in trunc_lists:\n",
    "            out_txt.write(f'{imgdir}/{row[0]} {row[1]}\\n')\n",
    "\n",
    "    with open('train_paths.txt','w') as out_txt1:\n",
    "        for row in trunc_lists[:-2000]:\n",
    "            out_txt1.write(f'{imgdir}/{row[0]} {0 if row[1] == \"No Finding\" else 1}\\n')\n",
    "\n",
    "    with open('test_paths.txt','w') as out_txt2:\n",
    "        for row in trunc_lists[-2000:]:\n",
    "            out_txt2.write(f'{imgdir}/{row[0]} {0 if row[1] == \"No Finding\" else 1}\\n')"
   ]
  },
  {
   "cell_type": "code",
   "execution_count": 3,
   "metadata": {
    "collapsed": true
   },
   "outputs": [],
   "source": [
    "tbCallBack = keras.callbacks.TensorBoard(log_dir=f'./TBLOGS/{MODEL_NAME}', histogram_freq=0,  \n",
    "          write_graph=True, write_images=True)"
   ]
  },
  {
   "cell_type": "code",
   "execution_count": 4,
   "metadata": {
    "collapsed": true
   },
   "outputs": [],
   "source": [
    "from keras.optimizers import Adam\n",
    "\n",
    "model = Sequential()\n",
    "model.add(Conv2D(512, (3, 3), input_shape=(img_size,img_size,1)))\n",
    "model.add(BatchNormalization())\n",
    "model.add(Activation('relu'))\n",
    "model.add(MaxPooling2D(pool_size=(2, 2)))\n",
    "\n",
    "model.add(Conv2D(128, (3, 3)))\n",
    "model.add(BatchNormalization())\n",
    "model.add(Activation('relu'))\n",
    "model.add(MaxPooling2D(pool_size=(2, 2)))\n",
    "\n",
    "model.add(Flatten())\n",
    "model.add(Dense(64))\n",
    "model.add(Dropout(0.5))\n",
    "model.add(BatchNormalization())\n",
    "model.add(Activation('relu'))\n",
    "\n",
    "model.add(Dense(1))\n",
    "model.add(BatchNormalization())\n",
    "model.add(Activation('sigmoid'))\n",
    "\n",
    "model.compile(loss='binary_crossentropy',\n",
    "              optimizer=Adam(lr=0.001, beta_1=0.9, beta_2=0.999, epsilon=1e-08, decay=0.0),\n",
    "              metrics=['accuracy'])"
   ]
  },
  {
   "cell_type": "code",
   "execution_count": null,
   "metadata": {},
   "outputs": [
    {
     "name": "stdout",
     "output_type": "stream",
     "text": [
      "Found 100000 images belonging to 2 classes.\n",
      "Found 3416 images belonging to 2 classes.\n",
      "Epoch 1/20\n",
      "  61/6250 [..............................] - ETA: 2:49:32 - loss: 0.8577 - acc: 0.43 - ETA: 1:35:16 - loss: 0.8073 - acc: 0.50 - ETA: 1:10:30 - loss: 0.8102 - acc: 0.52 - ETA: 58:06 - loss: 0.7917 - acc: 0.5312 - ETA: 50:39 - loss: 0.7797 - acc: 0.52 - ETA: 45:43 - loss: 0.7578 - acc: 0.55 - ETA: 42:12 - loss: 0.8118 - acc: 0.50 - ETA: 39:34 - loss: 0.7934 - acc: 0.51 - ETA: 37:31 - loss: 0.7789 - acc: 0.52 - ETA: 35:52 - loss: 0.7880 - acc: 0.51 - ETA: 34:32 - loss: 0.7823 - acc: 0.50 - ETA: 33:24 - loss: 0.7785 - acc: 0.50 - ETA: 32:28 - loss: 0.7851 - acc: 0.50 - ETA: 31:38 - loss: 0.7923 - acc: 0.50 - ETA: 30:55 - loss: 0.7747 - acc: 0.50 - ETA: 30:17 - loss: 0.7788 - acc: 0.50 - ETA: 29:45 - loss: 0.7764 - acc: 0.50 - ETA: 29:16 - loss: 0.7745 - acc: 0.51 - ETA: 28:51 - loss: 0.7734 - acc: 0.51 - ETA: 28:28 - loss: 0.7701 - acc: 0.52 - ETA: 28:06 - loss: 0.7625 - acc: 0.53 - ETA: 27:47 - loss: 0.7543 - acc: 0.54 - ETA: 27:29 - loss: 0.7505 - acc: 0.54 - ETA: 27:13 - loss: 0.7414 - acc: 0.54 - ETA: 26:58 - loss: 0.7388 - acc: 0.55 - ETA: 26:44 - loss: 0.7358 - acc: 0.55 - ETA: 26:32 - loss: 0.7305 - acc: 0.55 - ETA: 26:21 - loss: 0.7341 - acc: 0.55 - ETA: 26:10 - loss: 0.7283 - acc: 0.55 - ETA: 26:00 - loss: 0.7247 - acc: 0.56 - ETA: 25:50 - loss: 0.7195 - acc: 0.56 - ETA: 25:42 - loss: 0.7273 - acc: 0.55 - ETA: 25:34 - loss: 0.7322 - acc: 0.55 - ETA: 25:27 - loss: 0.7361 - acc: 0.54 - ETA: 25:20 - loss: 0.7347 - acc: 0.55 - ETA: 25:13 - loss: 0.7412 - acc: 0.54 - ETA: 25:07 - loss: 0.7379 - acc: 0.54 - ETA: 25:01 - loss: 0.7403 - acc: 0.54 - ETA: 24:55 - loss: 0.7397 - acc: 0.54 - ETA: 24:50 - loss: 0.7381 - acc: 0.54 - ETA: 24:44 - loss: 0.7399 - acc: 0.54 - ETA: 24:39 - loss: 0.7402 - acc: 0.54 - ETA: 24:34 - loss: 0.7431 - acc: 0.53 - ETA: 24:29 - loss: 0.7445 - acc: 0.53 - ETA: 24:25 - loss: 0.7436 - acc: 0.53 - ETA: 24:21 - loss: 0.7456 - acc: 0.53 - ETA: 24:17 - loss: 0.7408 - acc: 0.53 - ETA: 24:14 - loss: 0.7386 - acc: 0.54 - ETA: 24:10 - loss: 0.7378 - acc: 0.54 - ETA: 24:06 - loss: 0.7372 - acc: 0.54 - ETA: 24:03 - loss: 0.7363 - acc: 0.54 - ETA: 24:00 - loss: 0.7333 - acc: 0.55 - ETA: 23:57 - loss: 0.7329 - acc: 0.55 - ETA: 23:53 - loss: 0.7293 - acc: 0.55 - ETA: 23:51 - loss: 0.7297 - acc: 0.54 - ETA: 23:48 - loss: 0.7271 - acc: 0.55 - ETA: 23:45 - loss: 0.7276 - acc: 0.55 - ETA: 23:43 - loss: 0.7283 - acc: 0.55 - ETA: 23:40 - loss: 0.7295 - acc: 0.55 - ETA: 23:38 - loss: 0.7266 - acc: 0.55 - ETA: 23:35 - loss: 0.7281 - acc: 0.5564"
     ]
    },
    {
     "name": "stderr",
     "output_type": "stream",
     "text": [
      "ERROR:root:Internal Python error in the inspect module.\n",
      "Below is the traceback from this internal error.\n",
      "\n"
     ]
    },
    {
     "name": "stdout",
     "output_type": "stream",
     "text": [
      "Traceback (most recent call last):\n",
      "  File \"D:\\anaconda\\lib\\site-packages\\IPython\\core\\interactiveshell.py\", line 2881, in run_code\n",
      "    exec(code_obj, self.user_global_ns, self.user_ns)\n",
      "  File \"<ipython-input-5-6d5c6cb71d0d>\", line 32, in <module>\n",
      "    callbacks=[tbCallBack])\n",
      "  File \"D:\\anaconda\\lib\\site-packages\\keras\\legacy\\interfaces.py\", line 91, in wrapper\n",
      "    return func(*args, **kwargs)\n",
      "  File \"D:\\anaconda\\lib\\site-packages\\keras\\models.py\", line 1256, in fit_generator\n",
      "    initial_epoch=initial_epoch)\n",
      "  File \"D:\\anaconda\\lib\\site-packages\\keras\\legacy\\interfaces.py\", line 91, in wrapper\n",
      "    return func(*args, **kwargs)\n",
      "  File \"D:\\anaconda\\lib\\site-packages\\keras\\engine\\training.py\", line 2177, in fit_generator\n",
      "    class_weight=class_weight)\n",
      "  File \"D:\\anaconda\\lib\\site-packages\\keras\\engine\\training.py\", line 1849, in train_on_batch\n",
      "    outputs = self.train_function(ins)\n",
      "  File \"D:\\anaconda\\lib\\site-packages\\keras\\backend\\tensorflow_backend.py\", line 2475, in __call__\n",
      "    **self.session_kwargs)\n",
      "  File \"D:\\anaconda\\lib\\site-packages\\tensorflow\\python\\client\\session.py\", line 889, in run\n",
      "    run_metadata_ptr)\n",
      "  File \"D:\\anaconda\\lib\\site-packages\\tensorflow\\python\\client\\session.py\", line 1120, in _run\n",
      "    feed_dict_tensor, options, run_metadata)\n",
      "  File \"D:\\anaconda\\lib\\site-packages\\tensorflow\\python\\client\\session.py\", line 1317, in _do_run\n",
      "    options, run_metadata)\n",
      "  File \"D:\\anaconda\\lib\\site-packages\\tensorflow\\python\\client\\session.py\", line 1323, in _do_call\n",
      "    return fn(*args)\n",
      "  File \"D:\\anaconda\\lib\\site-packages\\tensorflow\\python\\client\\session.py\", line 1302, in _run_fn\n",
      "    status, run_metadata)\n",
      "KeyboardInterrupt\n",
      "\n",
      "During handling of the above exception, another exception occurred:\n",
      "\n",
      "Traceback (most recent call last):\n",
      "  File \"D:\\anaconda\\lib\\site-packages\\IPython\\core\\interactiveshell.py\", line 1821, in showtraceback\n",
      "    stb = value._render_traceback_()\n",
      "AttributeError: 'KeyboardInterrupt' object has no attribute '_render_traceback_'\n",
      "\n",
      "During handling of the above exception, another exception occurred:\n",
      "\n",
      "Traceback (most recent call last):\n",
      "  File \"D:\\anaconda\\lib\\site-packages\\IPython\\core\\ultratb.py\", line 1132, in get_records\n",
      "    return _fixed_getinnerframes(etb, number_of_lines_of_context, tb_offset)\n",
      "  File \"D:\\anaconda\\lib\\site-packages\\IPython\\core\\ultratb.py\", line 313, in wrapped\n",
      "    return f(*args, **kwargs)\n",
      "  File \"D:\\anaconda\\lib\\site-packages\\IPython\\core\\ultratb.py\", line 358, in _fixed_getinnerframes\n",
      "    records = fix_frame_records_filenames(inspect.getinnerframes(etb, context))\n",
      "  File \"D:\\anaconda\\lib\\inspect.py\", line 1453, in getinnerframes\n",
      "    frameinfo = (tb.tb_frame,) + getframeinfo(tb, context)\n",
      "  File \"D:\\anaconda\\lib\\inspect.py\", line 1411, in getframeinfo\n",
      "    filename = getsourcefile(frame) or getfile(frame)\n",
      "  File \"D:\\anaconda\\lib\\inspect.py\", line 666, in getsourcefile\n",
      "    if getattr(getmodule(object, filename), '__loader__', None) is not None:\n",
      "  File \"D:\\anaconda\\lib\\inspect.py\", line 709, in getmodule\n",
      "    f = getabsfile(module)\n",
      "  File \"D:\\anaconda\\lib\\inspect.py\", line 678, in getabsfile\n",
      "    _filename = getsourcefile(object) or getfile(object)\n",
      "  File \"D:\\anaconda\\lib\\inspect.py\", line 663, in getsourcefile\n",
      "    if os.path.exists(filename):\n",
      "  File \"D:\\anaconda\\lib\\genericpath.py\", line 19, in exists\n",
      "    os.stat(path)\n",
      "KeyboardInterrupt\n"
     ]
    },
    {
     "ename": "KeyboardInterrupt",
     "evalue": "",
     "output_type": "error",
     "traceback": [
      "\u001b[1;31m---------------------------------------------------------------------------\u001b[0m"
     ]
    },
    {
     "name": "stderr",
     "output_type": "stream",
     "text": [
      "ERROR:tornado.general:Uncaught exception, closing connection.\n",
      "Traceback (most recent call last):\n",
      "  File \"D:\\anaconda\\lib\\site-packages\\zmq\\eventloop\\zmqstream.py\", line 414, in _run_callback\n",
      "    callback(*args, **kwargs)\n",
      "  File \"D:\\anaconda\\lib\\site-packages\\tornado\\stack_context.py\", line 277, in null_wrapper\n",
      "    return fn(*args, **kwargs)\n",
      "  File \"D:\\anaconda\\lib\\site-packages\\ipykernel\\kernelbase.py\", line 283, in dispatcher\n",
      "    return self.dispatch_shell(stream, msg)\n",
      "  File \"D:\\anaconda\\lib\\site-packages\\ipykernel\\kernelbase.py\", line 235, in dispatch_shell\n",
      "    handler(stream, idents, msg)\n",
      "  File \"D:\\anaconda\\lib\\site-packages\\ipykernel\\kernelbase.py\", line 421, in execute_request\n",
      "    self._abort_queues()\n",
      "  File \"D:\\anaconda\\lib\\site-packages\\ipykernel\\kernelbase.py\", line 637, in _abort_queues\n",
      "    self._abort_queue(stream)\n",
      "  File \"D:\\anaconda\\lib\\site-packages\\ipykernel\\kernelbase.py\", line 662, in _abort_queue\n",
      "    poller.poll(50)\n",
      "  File \"D:\\anaconda\\lib\\site-packages\\zmq\\sugar\\poll.py\", line 99, in poll\n",
      "    return zmq_poll(self.sockets, timeout=timeout)\n",
      "  File \"zmq/backend/cython/_poll.pyx\", line 116, in zmq.backend.cython._poll.zmq_poll (zmq\\backend\\cython\\_poll.c:2036)\n",
      "  File \"zmq/backend/cython/checkrc.pxd\", line 12, in zmq.backend.cython.checkrc._check_rc (zmq\\backend\\cython\\_poll.c:2418)\n",
      "KeyboardInterrupt\n",
      "ERROR:tornado.general:Uncaught exception, closing connection.\n",
      "Traceback (most recent call last):\n",
      "  File \"D:\\anaconda\\lib\\site-packages\\zmq\\eventloop\\zmqstream.py\", line 440, in _handle_events\n",
      "    self._handle_recv()\n",
      "  File \"D:\\anaconda\\lib\\site-packages\\zmq\\eventloop\\zmqstream.py\", line 472, in _handle_recv\n",
      "    self._run_callback(callback, msg)\n",
      "  File \"D:\\anaconda\\lib\\site-packages\\zmq\\eventloop\\zmqstream.py\", line 414, in _run_callback\n",
      "    callback(*args, **kwargs)\n",
      "  File \"D:\\anaconda\\lib\\site-packages\\tornado\\stack_context.py\", line 277, in null_wrapper\n",
      "    return fn(*args, **kwargs)\n",
      "  File \"D:\\anaconda\\lib\\site-packages\\ipykernel\\kernelbase.py\", line 283, in dispatcher\n",
      "    return self.dispatch_shell(stream, msg)\n",
      "  File \"D:\\anaconda\\lib\\site-packages\\ipykernel\\kernelbase.py\", line 235, in dispatch_shell\n",
      "    handler(stream, idents, msg)\n",
      "  File \"D:\\anaconda\\lib\\site-packages\\ipykernel\\kernelbase.py\", line 421, in execute_request\n",
      "    self._abort_queues()\n",
      "  File \"D:\\anaconda\\lib\\site-packages\\ipykernel\\kernelbase.py\", line 637, in _abort_queues\n",
      "    self._abort_queue(stream)\n",
      "  File \"D:\\anaconda\\lib\\site-packages\\ipykernel\\kernelbase.py\", line 662, in _abort_queue\n",
      "    poller.poll(50)\n",
      "  File \"D:\\anaconda\\lib\\site-packages\\zmq\\sugar\\poll.py\", line 99, in poll\n",
      "    return zmq_poll(self.sockets, timeout=timeout)\n",
      "  File \"zmq/backend/cython/_poll.pyx\", line 116, in zmq.backend.cython._poll.zmq_poll (zmq\\backend\\cython\\_poll.c:2036)\n",
      "  File \"zmq/backend/cython/checkrc.pxd\", line 12, in zmq.backend.cython.checkrc._check_rc (zmq\\backend\\cython\\_poll.c:2418)\n",
      "KeyboardInterrupt\n"
     ]
    }
   ],
   "source": [
    "train_datagen = ImageDataGenerator(\n",
    "        rescale=1./255,\n",
    "        shear_range=0.2,\n",
    "        zoom_range=0.2,\n",
    "        horizontal_flip=True)\n",
    "\n",
    "test_datagen = ImageDataGenerator(rescale=1./255)\n",
    "\n",
    "\n",
    "\n",
    "train_generator = train_datagen.flow_from_directory(\n",
    "        train_data_dir,\n",
    "        target_size=(img_size, img_size),\n",
    "        batch_size=batch_size,\n",
    "        class_mode='binary',\n",
    "        color_mode='grayscale')\n",
    "\n",
    "validation_generator = test_datagen.flow_from_directory(\n",
    "        validation_data_dir,\n",
    "        target_size=(img_size, img_size),\n",
    "        batch_size=batch_size,\n",
    "        class_mode='binary',\n",
    "        color_mode='grayscale')\n",
    "\n",
    "\n",
    "model.fit_generator(\n",
    "        train_generator,\n",
    "        steps_per_epoch=nb_train_samples//batch_size,\n",
    "        epochs=nb_epoch,\n",
    "        validation_data=validation_generator,\n",
    "        validation_steps=nb_validation_samples//batch_size,\n",
    "        callbacks=[tbCallBack])"
   ]
  },
  {
   "cell_type": "code",
   "execution_count": null,
   "metadata": {
    "collapsed": true
   },
   "outputs": [],
   "source": []
  },
  {
   "cell_type": "code",
   "execution_count": null,
   "metadata": {
    "collapsed": true
   },
   "outputs": [],
   "source": []
  },
  {
   "cell_type": "code",
   "execution_count": null,
   "metadata": {
    "collapsed": true
   },
   "outputs": [],
   "source": []
  },
  {
   "cell_type": "code",
   "execution_count": null,
   "metadata": {
    "collapsed": true
   },
   "outputs": [],
   "source": []
  },
  {
   "cell_type": "code",
   "execution_count": null,
   "metadata": {
    "collapsed": true
   },
   "outputs": [],
   "source": []
  },
  {
   "cell_type": "code",
   "execution_count": null,
   "metadata": {
    "collapsed": true
   },
   "outputs": [],
   "source": [
    "\n",
    "\n",
    "\n"
   ]
  },
  {
   "cell_type": "code",
   "execution_count": null,
   "metadata": {
    "collapsed": true
   },
   "outputs": [],
   "source": [
    "model.fit(X, Y,\n",
    "          epochs=epochs,\n",
    "          batch_size=batch_size,\n",
    "          verbose=3,\n",
    "          shuffle = 'batch', \n",
    "          validation_data=(test_X,test_Y),    #data to be be used as vailidation\n",
    "          callbacks=[tbCallBack]) #pushes data to tensorboard"
   ]
  },
  {
   "cell_type": "code",
   "execution_count": null,
   "metadata": {
    "collapsed": true,
    "scrolled": true
   },
   "outputs": [],
   "source": []
  },
  {
   "cell_type": "code",
   "execution_count": null,
   "metadata": {
    "collapsed": true
   },
   "outputs": [],
   "source": [
    "model.save('{}.{}.model'.format(MODEL_NAME,f'{batch_size}')) #save the model with the name in the working directory"
   ]
  },
  {
   "cell_type": "code",
   "execution_count": null,
   "metadata": {
    "collapsed": true,
    "scrolled": true
   },
   "outputs": [],
   "source": [
    "#print(model.predict(np.array([X[-1]]))[0])\n",
    "#print(Y[-1])\n",
    "\n",
    "pred_Y = model.predict(test_X)\n",
    "pred_Y = (pred_Y > 0.5)\n",
    "\n",
    "from sklearn.metrics import confusion_matrix\n",
    "cm = confusion_matrix(test_Y, pred_Y)"
   ]
  },
  {
   "cell_type": "code",
   "execution_count": null,
   "metadata": {
    "collapsed": true
   },
   "outputs": [],
   "source": [
    "print(cm)"
   ]
  },
  {
   "cell_type": "code",
   "execution_count": null,
   "metadata": {
    "collapsed": true
   },
   "outputs": [],
   "source": []
  },
  {
   "cell_type": "code",
   "execution_count": null,
   "metadata": {
    "collapsed": true
   },
   "outputs": [],
   "source": []
  },
  {
   "cell_type": "code",
   "execution_count": null,
   "metadata": {
    "collapsed": true
   },
   "outputs": [],
   "source": []
  },
  {
   "cell_type": "code",
   "execution_count": null,
   "metadata": {
    "collapsed": true
   },
   "outputs": [],
   "source": []
  },
  {
   "cell_type": "markdown",
   "metadata": {},
   "source": [
    "### [0, 1] == Normal == 0\n",
    "\n",
    "### [1, 0] == Abnormal == 1\n",
    "\n",
    "### [Abnormalness, Normalness]"
   ]
  },
  {
   "cell_type": "code",
   "execution_count": null,
   "metadata": {
    "collapsed": true
   },
   "outputs": [],
   "source": []
  },
  {
   "cell_type": "code",
   "execution_count": null,
   "metadata": {
    "collapsed": true
   },
   "outputs": [],
   "source": []
  },
  {
   "cell_type": "code",
   "execution_count": null,
   "metadata": {
    "collapsed": true
   },
   "outputs": [],
   "source": []
  }
 ],
 "metadata": {
  "kernelspec": {
   "display_name": "Python 3",
   "language": "python",
   "name": "python3"
  },
  "language_info": {
   "codemirror_mode": {
    "name": "ipython",
    "version": 3
   },
   "file_extension": ".py",
   "mimetype": "text/x-python",
   "name": "python",
   "nbconvert_exporter": "python",
   "pygments_lexer": "ipython3",
   "version": "3.6.1"
  }
 },
 "nbformat": 4,
 "nbformat_minor": 2
}
