{
 "cells": [
  {
   "cell_type": "code",
   "execution_count": null,
   "metadata": {},
   "outputs": [],
   "source": [
    "import keras\n",
    "import h5py\n",
    "import numpy as np\n",
    "import random\n",
    "import cv2\n",
    "from keras_tqdm import TQDMNotebookCallback\n",
    "from tqdm import tqdm_notebook\n",
    "\n",
    "infodir = 'C:/Science_Research/xraynet_data/images'\n",
    "test_path = f'{infodir}/test.h5'\n",
    "train_path = f'{infodir}/train.h5'\n",
    "MODEL_NAME = 'xrayNet-keras-ResNet50' #gve the model a name\n",
    "# input image dimensions"
   ]
  },
  {
   "cell_type": "code",
   "execution_count": null,
   "metadata": {},
   "outputs": [],
   "source": [
    "from matplotlib import pyplot as plt\n",
    "import h5py\n",
    "\n",
    "h5f = h5py.File(test_path, 'r')\n",
    "image = h5f['X'][11]\n",
    "print(h5f['Y'][11])\n",
    "plt.imshow(image, cmap='gray')\n",
    "plt.show()\n",
    "im = image*255\n",
    "im = cv2.equalizeHist(im.astype('uint8'))\n",
    "plt.imshow(im.astype('float32'), cmap='gray')\n",
    "plt.show()\n",
    "h5f.close()"
   ]
  },
  {
   "cell_type": "code",
   "execution_count": null,
   "metadata": {
    "collapsed": true
   },
   "outputs": [],
   "source": [
    "def load_val():\n",
    "    h5f = h5py.File(test_path, 'r')\n",
    "    X_val_pre = h5f['X']\n",
    "    Y_val_pre = h5f['Y']\n",
    "\n",
    "    X_val = []\n",
    "    Y_val = []\n",
    "\n",
    "\n",
    "\n",
    "    for image in tqdm_notebook(X_val_pre):\n",
    "        im = image*255\n",
    "        eq = cv2.equalizeHist(im.astype('uint8'))\n",
    "        im = eq.astype('float32')/255\n",
    "        X_val.append(cv2.cvtColor(im, cv2.COLOR_GRAY2RGB))\n",
    "\n",
    "    for label in tqdm_notebook(Y_val_pre):\n",
    "        Y_val.append(label[0])\n",
    "        \n",
    "    h5f.close()\n",
    "    return X_val, Y_val\n",
    "    \n",
    "def load_data_batch(start,stop):\n",
    "    h5f = h5py.File(train_path, 'r')\n",
    "    X_train_pre = h5f['X'][start:stop]\n",
    "    Y_train_pre = h5f['Y'][start:stop]\n",
    "\n",
    "    X_train = []\n",
    "    Y_train = []\n",
    "\n",
    "    for image in tqdm_notebook(X_train_pre):\n",
    "        im = image*255\n",
    "        eq = cv2.equalizeHist(im.astype('uint8'))\n",
    "        im = eq.astype('float32')/255\n",
    "        X_train.append(cv2.cvtColor(im, cv2.COLOR_GRAY2RGB))\n",
    "\n",
    "    for label in tqdm_notebook(Y_train_pre):\n",
    "        Y_train.append(label[0])\n",
    "        \n",
    "    h5f.close()        \n",
    "    return X_train, Y_train\n"
   ]
  },
  {
   "cell_type": "code",
   "execution_count": null,
   "metadata": {},
   "outputs": [],
   "source": [
    "import os\n",
    "if 'X_val1.npy' in os.listdir('./'):\n",
    "    print('loading from file...')\n",
    "    X_val = np.load('X_val.npy')\n",
    "    Y_val = np.load('Y_val.npy')\n",
    "    X_train = np.load('X_train.npy')\n",
    "    Y_train = np.load('Y_train.npy')\n",
    "    print('Data loaded')\n",
    "else:\n",
    "    X_val, Y_val = load_val()\n",
    "    X_train, Y_train = load_data_batch(0,10000)\n",
    "    np.save('X_val',X_val)\n",
    "    np.save('Y_val',Y_val)\n",
    "    np.save('X_train',X_train)\n",
    "    np.save('Y_train',Y_train)\n"
   ]
  },
  {
   "cell_type": "code",
   "execution_count": null,
   "metadata": {},
   "outputs": [],
   "source": []
  },
  {
   "cell_type": "code",
   "execution_count": null,
   "metadata": {},
   "outputs": [],
   "source": [
    "X_train = np.array(X_train)\n",
    "X_val = np.array(X_val)\n",
    "\n",
    "Y_train = np.array(Y_train)\n",
    "Y_val = np.array(Y_val)\n",
    "\n",
    "\n",
    "print(X_train.shape, X_val.shape, Y_val.shape, Y_train.shape)"
   ]
  },
  {
   "cell_type": "code",
   "execution_count": null,
   "metadata": {
    "collapsed": true
   },
   "outputs": [],
   "source": [
    "Y_train = 1 - Y_train.astype('int')\n",
    "Y_train = np.eye(2)[Y_train]\n",
    "\n",
    "Y_val = 1 - Y_val.astype('int')\n",
    "Y_val = np.eye(2)[Y_val]"
   ]
  },
  {
   "cell_type": "code",
   "execution_count": null,
   "metadata": {
    "collapsed": true
   },
   "outputs": [],
   "source": [
    "from keras import models\n",
    "from keras import layers\n",
    "from keras import optimizers\n",
    "from keras import callbacks\n",
    "from keras import backend as K\n",
    "\n",
    "# Import the network architecture\n",
    "import keras_resnet.models\n",
    "IMG_WIDTH = 256\n",
    "IMG_HEIGHT = 256\n",
    "IMG_DEPTH = 3\n",
    "BATCH_SIZE = 64\n",
    "NB_EPOCHS = 15\n",
    "\n",
    "shape, classes = (IMG_WIDTH, IMG_HEIGHT, IMG_DEPTH), 2\n",
    "\n",
    "\n",
    "x = keras.layers.Input(shape)\n",
    "\n",
    "model = keras_resnet.models.ResNet50(x, classes=classes)\n",
    "\n",
    "model.compile(\n",
    "    loss='binary_crossentropy',\n",
    "    optimizer=optimizers.RMSprop(lr=2e-6),\n",
    "    metrics=['acc'])\n",
    "\n",
    "reduce_learning = callbacks.ReduceLROnPlateau(\n",
    "    monitor='val_loss',\n",
    "    factor=0.2,\n",
    "    patience=2,\n",
    "    verbose=1,\n",
    "    mode='auto',\n",
    "    epsilon=0.0001,\n",
    "    cooldown=2,\n",
    "    min_lr=0)\n",
    "\n",
    "eary_stopping = callbacks.EarlyStopping(\n",
    "    monitor='val_loss',\n",
    "    min_delta=0,\n",
    "    patience=7,\n",
    "    verbose=1,\n",
    "    mode='auto')\n",
    "\n",
    "callbacks = [TQDMNotebookCallback()] #,eary_stopping, reduce_learning]"
   ]
  },
  {
   "cell_type": "code",
   "execution_count": null,
   "metadata": {
    "scrolled": true
   },
   "outputs": [],
   "source": [
    "# Train the the model\n",
    "history = model.fit(\n",
    "    X_train,\n",
    "    Y_train,\n",
    "    epochs=NB_EPOCHS,\n",
    "    validation_data=(X_val, Y_val),\n",
    "    verbose = 2,\n",
    "    callbacks=callbacks\n",
    ")"
   ]
  },
  {
   "cell_type": "code",
   "execution_count": null,
   "metadata": {},
   "outputs": [],
   "source": [
    "import matplotlib.pyplot as plt\n",
    "\n",
    "acc = history.history['acc']\n",
    "val_acc = history.history['val_acc']\n",
    "loss = history.history['loss']\n",
    "val_loss = history.history['val_loss']\n",
    "epochs = range(1, len(acc) + 1)\n",
    "\n",
    "plt.title('Training and validation accuracy')\n",
    "plt.plot(epochs, acc, 'red', label='Training acc')\n",
    "plt.plot(epochs, val_acc, 'blue', label='Validation acc')\n",
    "plt.legend()\n",
    "\n",
    "plt.figure()\n",
    "plt.title('Training and validation loss')\n",
    "plt.plot(epochs, loss, 'red', label='Training loss')\n",
    "plt.plot(epochs, val_loss, 'blue', label='Validation loss')\n",
    "\n",
    "plt.legend()\n",
    "\n",
    "plt.show()"
   ]
  },
  {
   "cell_type": "code",
   "execution_count": null,
   "metadata": {
    "collapsed": true
   },
   "outputs": [],
   "source": [
    "max(val_acc)"
   ]
  },
  {
   "cell_type": "code",
   "execution_count": null,
   "metadata": {
    "collapsed": true
   },
   "outputs": [],
   "source": [
    "\n",
    "\n",
    "\n"
   ]
  },
  {
   "cell_type": "code",
   "execution_count": null,
   "metadata": {
    "collapsed": true
   },
   "outputs": [],
   "source": []
  },
  {
   "cell_type": "code",
   "execution_count": null,
   "metadata": {
    "collapsed": true
   },
   "outputs": [],
   "source": []
  },
  {
   "cell_type": "code",
   "execution_count": null,
   "metadata": {
    "collapsed": true
   },
   "outputs": [],
   "source": []
  },
  {
   "cell_type": "code",
   "execution_count": null,
   "metadata": {
    "collapsed": true
   },
   "outputs": [],
   "source": []
  },
  {
   "cell_type": "markdown",
   "metadata": {},
   "source": [
    "### [0, 1] == Normal == 0\n",
    "\n",
    "### [1, 0] == Abnormal == 1\n",
    "\n",
    "### [Abnormalness, Normalness]"
   ]
  },
  {
   "cell_type": "code",
   "execution_count": null,
   "metadata": {
    "collapsed": true
   },
   "outputs": [],
   "source": []
  },
  {
   "cell_type": "code",
   "execution_count": null,
   "metadata": {
    "collapsed": true
   },
   "outputs": [],
   "source": []
  },
  {
   "cell_type": "code",
   "execution_count": null,
   "metadata": {
    "collapsed": true
   },
   "outputs": [],
   "source": []
  }
 ],
 "metadata": {
  "kernelspec": {
   "display_name": "Python 3",
   "language": "python",
   "name": "python3"
  },
  "language_info": {
   "codemirror_mode": {
    "name": "ipython",
    "version": 3
   },
   "file_extension": ".py",
   "mimetype": "text/x-python",
   "name": "python",
   "nbconvert_exporter": "python",
   "pygments_lexer": "ipython3",
   "version": "3.6.1"
  }
 },
 "nbformat": 4,
 "nbformat_minor": 2
}
